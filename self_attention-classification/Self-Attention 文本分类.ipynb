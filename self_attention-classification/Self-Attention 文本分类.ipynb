{
 "cells": [
  {
   "cell_type": "code",
   "execution_count": 1,
   "metadata": {},
   "outputs": [
    {
     "name": "stderr",
     "output_type": "stream",
     "text": [
      "Using TensorFlow backend.\n"
     ]
    }
   ],
   "source": [
    "from keras.preprocessing import  sequence\n",
    "from keras.datasets import imdb\n",
    "from matplotlib import pyplot as plt\n",
    "import pandas as pd"
   ]
  },
  {
   "cell_type": "code",
   "execution_count": 2,
   "metadata": {},
   "outputs": [],
   "source": [
    "from keras import backend as K\n",
    "from keras.engine.topology import Layer"
   ]
  },
  {
   "cell_type": "code",
   "execution_count": 20,
   "metadata": {},
   "outputs": [
    {
     "name": "stdout",
     "output_type": "stream",
     "text": [
      "Loading data...\n"
     ]
    }
   ],
   "source": [
    "class Self_Attention(Layer):\n",
    "    def __init__(self,output_dim,**kwargs):\n",
    "        self.output_dim=output_dim\n",
    "        super(Self_Attention,self).__init__(**kwargs)\n",
    "    def build(self,input_shape):\n",
    "        #为该层创建一个可训练的权重\n",
    "        #Iinput.shape=(batch_size,time_steps,seq_len)\n",
    "        self.kernel=self.add_weight(name='kernel',shape=(3,input_shape[2],self.output_dim),\n",
    "                                   initializer='uniform',trainable=True)\n",
    "        super(Self_Attention,self).build(input_shape)#最后调用\n",
    "    def call (self,x):\n",
    "        WQ=K.dot(x,self.kernel[0])\n",
    "        WK=K.dot(x,self.kernel[1])\n",
    "        WV=K.dot(x,self.kernel[2])\n",
    "        \n",
    "        print(\"WQ.shape\",WQ.shape)\n",
    "        print(\"K.permute_dimensions(WK, [0, 2, 1]).shape\",K.permute_dimensions(WK, [0, 2, 1]).shape)\n",
    "        QK = K.batch_dot(WQ,K.permute_dimensions(WK, [0, 2, 1]))\n",
    "        QK = QK / (self.output_dim**0.5)###*******\n",
    "        QK = K.softmax(QK)\n",
    "        print(\"QK.shape\",QK.shape)\n",
    "        V = K.batch_dot(QK,WV)\n",
    "        return V\n",
    "    def compute_output_shape(self, input_shape):\n",
    "        return (input_shape[0],input_shape[1],self.output_dim)\n",
    "    \n",
    "\n",
    "    print('Loading data...')\n",
    "    "
   ]
  },
  {
   "cell_type": "code",
   "execution_count": 21,
   "metadata": {},
   "outputs": [
    {
     "name": "stdout",
     "output_type": "stream",
     "text": [
      "25000 train sequences\n",
      "25000 test sequences\n",
      "Pad sequences (samples x time)\n",
      "x_train shape: (25000, 64)\n",
      "x_test shape: (25000, 64)\n"
     ]
    }
   ],
   "source": [
    "#标签转化为独热码\n",
    "max_features = 20000\n",
    "(x_train, y_train), (x_test, y_test) = imdb.load_data(num_words=max_features)\n",
    "y_train, y_test = pd.get_dummies(y_train),pd.get_dummies(y_test)\n",
    "print(len(x_train), 'train sequences')\n",
    "print(len(x_test), 'test sequences')\n",
    "\n",
    "#数据归一化处理\n",
    "maxlen = 64\n",
    "print('Pad sequences (samples x time)')\n",
    "x_train = sequence.pad_sequences(x_train, maxlen=maxlen)\n",
    "x_test = sequence.pad_sequences(x_test, maxlen=maxlen)\n",
    "print('x_train shape:', x_train.shape)\n",
    "print('x_test shape:', x_test.shape)\n",
    "#%%\n"
   ]
  },
  {
   "cell_type": "code",
   "execution_count": 22,
   "metadata": {},
   "outputs": [
    {
     "name": "stdout",
     "output_type": "stream",
     "text": [
      "WQ.shape (?, 64, 128)\n",
      "K.permute_dimensions(WK, [0, 2, 1]).shape (?, 128, 64)\n",
      "QK.shape (?, 64, 64)\n",
      "_________________________________________________________________\n",
      "Layer (type)                 Output Shape              Param #   \n",
      "=================================================================\n",
      "input_10 (InputLayer)        (None, 64)                0         \n",
      "_________________________________________________________________\n",
      "embedding_10 (Embedding)     (None, 64, 128)           2560000   \n",
      "_________________________________________________________________\n",
      "self__attention_4 (Self_Atte (None, 64, 128)           49152     \n",
      "_________________________________________________________________\n",
      "global_average_pooling1d_1 ( (None, 128)               0         \n",
      "_________________________________________________________________\n",
      "dropout_1 (Dropout)          (None, 128)               0         \n",
      "_________________________________________________________________\n",
      "dense_1 (Dense)              (None, 2)                 258       \n",
      "=================================================================\n",
      "Total params: 2,609,410\n",
      "Trainable params: 2,609,410\n",
      "Non-trainable params: 0\n",
      "_________________________________________________________________\n",
      "None\n",
      "Train...\n"
     ]
    }
   ],
   "source": [
    "batch_size = 32\n",
    "from keras.models import Model\n",
    "from keras.optimizers import SGD,Adam\n",
    "from keras.layers import *\n",
    "S_inputs = Input(shape=(64,), dtype='int32')\n",
    "embeddings = Embedding(max_features, 128)(S_inputs)\n",
    "O_seq = Self_Attention(128)(embeddings)\n",
    "O_seq = GlobalAveragePooling1D()(O_seq)\n",
    "O_seq = Dropout(0.5)(O_seq)\n",
    "outputs = Dense(2, activation='softmax')(O_seq)\n",
    "model = Model(inputs=S_inputs, outputs=outputs)\n",
    "print(model.summary())\n",
    "# try using different optimizers and different optimizer configs\n",
    "opt = Adam(lr=0.0002,decay=0.00001)\n",
    "loss = 'categorical_crossentropy'\n",
    "model.compile(loss=loss,\n",
    "\n",
    "             optimizer=opt,\n",
    "\n",
    "             metrics=['accuracy'])\n",
    "print('Train...')"
   ]
  },
  {
   "cell_type": "code",
   "execution_count": 23,
   "metadata": {},
   "outputs": [
    {
     "name": "stdout",
     "output_type": "stream",
     "text": [
      "WARNING:tensorflow:Variable *= will be deprecated. Use `var.assign(var * other)` if you want assignment to the variable value or `x = x * y` if you want a new python Tensor object.\n",
      "Train on 25000 samples, validate on 25000 samples\n",
      "Epoch 1/5\n",
      "25000/25000 [==============================] - 17s 692us/step - loss: 0.5266 - acc: 0.7504 - val_loss: 0.3840 - val_acc: 0.8274\n",
      "Epoch 2/5\n",
      "25000/25000 [==============================] - 5s 200us/step - loss: 0.3258 - acc: 0.8590 - val_loss: 0.3689 - val_acc: 0.8362\n",
      "Epoch 3/5\n",
      "25000/25000 [==============================] - 5s 200us/step - loss: 0.2609 - acc: 0.8940 - val_loss: 0.3896 - val_acc: 0.8304\n",
      "Epoch 4/5\n",
      "25000/25000 [==============================] - 5s 200us/step - loss: 0.2093 - acc: 0.9175 - val_loss: 0.4443 - val_acc: 0.8224\n",
      "Epoch 5/5\n",
      "25000/25000 [==============================] - 5s 201us/step - loss: 0.1662 - acc: 0.9361 - val_loss: 0.5243 - val_acc: 0.8112\n"
     ]
    },
    {
     "data": {
      "image/png": "[encoded data removed]",
      "text/plain": [
       "<Figure size 432x288 with 1 Axes>"
      ]
     },
     "metadata": {
      "needs_background": "light"
     },
     "output_type": "display_data"
    }
   ],
   "source": [
    "h = model.fit(x_train, y_train,\n",
    "\n",
    "         batch_size=batch_size,\n",
    "\n",
    "         epochs=5,\n",
    "\n",
    "         validation_data=(x_test, y_test))\n",
    "\n",
    "plt.plot(h.history[\"loss\"],label=\"train_loss\")\n",
    "plt.plot(h.history[\"val_loss\"],label=\"val_loss\")\n",
    "plt.plot(h.history[\"acc\"],label=\"train_acc\")\n",
    "plt.plot(h.history[\"val_acc\"],label=\"val_acc\")\n",
    "plt.legend()\n",
    "plt.show()\n"
   ]
  },
  {
   "cell_type": "code",
   "execution_count": null,
   "metadata": {},
   "outputs": [],
   "source": []
  }
 ],
 "metadata": {
  "kernelspec": {
   "display_name": "Python 3",
   "language": "python",
   "name": "python3"
  },
  "language_info": {
   "codemirror_mode": {
    "name": "ipython",
    "version": 3
   },
   "file_extension": ".py",
   "mimetype": "text/x-python",
   "name": "python",
   "nbconvert_exporter": "python",
   "pygments_lexer": "ipython3",
   "version": "3.6.8"
  }
 },
 "nbformat": 4,
 "nbformat_minor": 2
}
